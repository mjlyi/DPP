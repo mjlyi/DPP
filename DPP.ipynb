{
 "cells": [
  {
   "cell_type": "code",
   "execution_count": 1,
   "id": "b259de17",
   "metadata": {},
   "outputs": [],
   "source": [
    "import numpy as np\n",
    "import math"
   ]
  },
  {
   "cell_type": "code",
   "execution_count": 12,
   "id": "aa3b68ca",
   "metadata": {},
   "outputs": [],
   "source": [
    "class DPPModel(object):\n",
    "    def __init__(self, **kwargs):\n",
    "        self.item_count = kwargs['item_count']\n",
    "        self.item_embed_size = kwargs['item_embed_size']\n",
    "        self.max_iter = kwargs['max_iter']\n",
    "        self.epsilon = kwargs['epsilon']\n",
    "    def build_kernel_matrix(self):\n",
    "        np.random.seed(20)\n",
    "        rank_score = np.random.random(size=(self.item_count))                                           # ⽤户和每个item的相关性\n",
    "        item_embedding = np.random.randn(self.item_count, self.item_embed_size)                         # item的embedding\n",
    "        item_embedding = item_embedding / np.linalg.norm(item_embedding, axis=1, keepdims=True)        # 归一化之后的\n",
    "        sim_matrix = np.dot(item_embedding, item_embedding.T)                                           # item之间的相似度矩阵\n",
    "        self.kernel_matrix = rank_score.reshape((self.item_count, 1)) \\\n",
    "                             * sim_matrix * rank_score.reshape((1, self.item_count))\n",
    "    def dpp(self):\n",
    "        c = np.zeros((self.max_iter, self.item_count))\n",
    "        d = np.copy(np.diag(self.kernel_matrix))\n",
    "        j = np.argmax(d)\n",
    "        Yg = [j]\n",
    "        iter = 0\n",
    "        Z = list(range(self.item_count))\n",
    "        while len(Yg) < self.max_iter:\n",
    "            Z_Y = set(Z).difference(set(Yg))\n",
    "            for i in Z_Y:\n",
    "                if iter == 0:\n",
    "                    ei = self.kernel_matrix[j, i] / np.sqrt(d[j])\n",
    "                else:\n",
    "                    ei = (self.kernel_matrix[j, i] - np.dot(c[:iter, j], c[:iter, i])) / np.sqrt(d[j])\n",
    "                c[iter, i] = ei\n",
    "                d[i] = d[i] - ei * ei\n",
    "            d[j] = 0\n",
    "            j = np.argmax(d)\n",
    "            if d[j] < self.epsilon:\n",
    "                break\n",
    "            Yg.append(j)\n",
    "            iter += 1\n",
    "        return Yg"
   ]
  },
  {
   "cell_type": "code",
   "execution_count": 13,
   "id": "81438f2b",
   "metadata": {},
   "outputs": [
    {
     "name": "stdout",
     "output_type": "stream",
     "text": [
      "[21, 71, 96, 86, 2, 72, 73, 1, 94, 48, 13, 27, 20, 91, 14, 52, 3, 54, 50, 53, 64, 17, 11, 12, 34, 90, 98, 75, 62, 30, 8, 81, 24, 57, 26, 56, 5, 79, 55, 31, 0, 63, 47, 45, 40, 22, 77, 97, 70, 37, 76, 35, 59, 41, 7, 28, 60, 25, 95, 68, 29, 58, 65, 43, 66, 51, 99, 74, 84, 6, 67, 42, 36, 82, 10, 19, 87, 44, 78, 38, 32, 39]\n"
     ]
    }
   ],
   "source": [
    "if __name__ == \"__main__\":\n",
    "    kwargs = {\n",
    "        'item_count': 100,\n",
    "        'item_embed_size': 100,\n",
    "        'max_iter': 100,\n",
    "        'epsilon': 0.01\n",
    "    }\n",
    "    dpp_model = DPPModel(**kwargs)\n",
    "    dpp_model.build_kernel_matrix()\n",
    "    print(dpp_model.dpp())"
   ]
  },
  {
   "cell_type": "code",
   "execution_count": null,
   "id": "6dc9eeb4",
   "metadata": {},
   "outputs": [],
   "source": []
  },
  {
   "cell_type": "code",
   "execution_count": null,
   "id": "8d9abcdc",
   "metadata": {},
   "outputs": [],
   "source": [
    "class DPPbeam(object):\n",
    "    def __init__(self, **kwargs):\n",
    "        self.item_count = kwargs['item_count']\n",
    "        self.item_embed_size = kwargs['item_embed_size']\n",
    "        self.max_iter = kwargs['max_iter']\n",
    "        self.epsilon = kwargs['epsilon']\n",
    "        self.beam = kwargs['beam']\n",
    "    def build_kernel_matrix(self):\n",
    "        np.random.seed(20)\n",
    "        rank_score = np.random.random(size=(self.item_count))                                           # ⽤户和每个item的相关性\n",
    "        item_embedding = np.random.randn(self.item_count, self.item_embed_size)                         # item的embedding\n",
    "        item_embedding = item_embedding / np.linalg.norm(item_embedding, axis=1, keepdims=True)        # 归一化之后的\n",
    "        sim_matrix = np.dot(item_embedding, item_embedding.T)                                           # item之间的相似度矩阵\n",
    "        self.kernel_matrix = rank_score.reshape((self.item_count, 1)) \\\n",
    "                             * sim_matrix * rank_score.reshape((1, self.item_count))\n",
    "        \n",
    "    def dpp_beam(self):\n",
    "        c = np.zeros((self.max_iter, self.item_count))\n",
    "        d = np.copy(np.diag(self.kernel_matrix))\n",
    "        # 取得前self.baem 个最大值\n",
    "        temp_d = np.argpartition(d,kth = -self.beam)[-self.beam:]\n",
    "        temp_d = temp_d[::-1]\n",
    "#         j = np.argmax(d)\n",
    "        \n",
    "        candidate = set(temp_dem)\n",
    "    def Rank_one(j,candidate):\n",
    "        Yg = [j]\n",
    "        iters = 0\n",
    "        Z = list(range(self.item_count))\n",
    "        while len(Yg) < self.max_iter:\n",
    "            Z_Y = set(Z).difference(set(Yg))\n",
    "            Z_Y= Z_Y.difference(candidate)\n",
    "            for i in Z_Y:\n",
    "                if iters == 0:\n",
    "                    ei = self.kernel_matrix[j, i] / np.sqrt(d[j])\n",
    "                else:\n",
    "                    ei = (self.kernel_matrix[j, i] - np.dot(c[:iters, j], c[:iters, i])) / np.sqrt(d[j])\n",
    "                c[iters, i] = ei\n",
    "                d[i] = d[i] - ei * ei\n",
    "            d[j] = 0\n",
    "            j = np.argmax(d)\n",
    "            if d[j] < self.epsilon:\n",
    "                break\n",
    "            Yg.append(j)\n",
    "            iters += 1\n",
    "        return Yg"
   ]
  },
  {
   "cell_type": "code",
   "execution_count": null,
   "id": "8af803c7",
   "metadata": {},
   "outputs": [],
   "source": [
    "if __name__ == \"__main__\":\n",
    "    kwargs = {\n",
    "        'item_count': 100,\n",
    "        'item_embed_size': 100,\n",
    "        'max_iter': 100,\n",
    "        'epsilon': 0.01,\n",
    "        'beam': 3\n",
    "    }\n",
    "    dpp_model = DPPModel(**kwargs)\n",
    "    dpp_model.build_kernel_matrix()\n",
    "    print(dpp_model.dpp())"
   ]
  },
  {
   "cell_type": "code",
   "execution_count": 53,
   "id": "32b9f1da",
   "metadata": {},
   "outputs": [
    {
     "data": {
      "text/plain": [
       "[3, 74, 85, 9, 0]"
      ]
     },
     "execution_count": 53,
     "metadata": {},
     "output_type": "execute_result"
    }
   ],
   "source": [
    "a = [0,9,85,74,3]\n",
    "a[::-1]"
   ]
  },
  {
   "cell_type": "code",
   "execution_count": 55,
   "id": "4d7d5db5",
   "metadata": {},
   "outputs": [],
   "source": [
    "a = np.array(a)"
   ]
  },
  {
   "cell_type": "code",
   "execution_count": 70,
   "id": "180eca57",
   "metadata": {},
   "outputs": [],
   "source": [
    "class Dpp(object):\n",
    "    def __init__(self):\n",
    "        self.item_count = 5000\n",
    "        self.item_embed_size = 5000\n",
    "        self.max_iter = 1000\n",
    "        self.epsilon = 1e-10\n",
    "    def build_kernel_matrix(self):\n",
    "        np.random.seed(20)                                        \n",
    "        rank_score = np.exp(0.01 * np.random.randn(item_size) + 0.2)                                   # ⽤户和每个item的相关性\n",
    "        item_embedding = np.random.randn(self.item_count, self.item_embed_size)                         # item的embedding\n",
    "        item_embedding = item_embedding / np.linalg.norm(item_embedding, axis=1, keepdims=True)        # 归一化之后的\n",
    "        sim_matrix = np.dot(item_embedding, item_embedding.T)                                           # item之间的相似度矩阵\n",
    "        self.kernel_matrix = rank_score.reshape((self.item_count, 1)) \\\n",
    "                             * sim_matrix * rank_score.reshape((1, self.item_count))\n",
    "    def dpp(self):\n",
    "        c = np.zeros((self.max_iter, self.item_count))\n",
    "        d = np.copy(np.diag(self.kernel_matrix))\n",
    "        j = np.argmax(d)\n",
    "        Yg = [j]\n",
    "        iter = 0\n",
    "        Z = list(range(self.item_count))\n",
    "        while len(Yg) < self.max_iter:\n",
    "            Z_Y = set(Z).difference(set(Yg))\n",
    "            for i in Z_Y:\n",
    "                if iter == 0:\n",
    "                    ei = self.kernel_matrix[j, i] / np.sqrt(d[j])\n",
    "                else:\n",
    "                    ei = (self.kernel_matrix[j, i] - np.dot(c[:iter, j], c[:iter, i])) / np.sqrt(d[j])\n",
    "                c[iter, i] = ei\n",
    "                d[i] = d[i] - ei * ei\n",
    "            d[j] = 0\n",
    "            j = np.argmax(d)\n",
    "            if d[j] < self.epsilon:\n",
    "                break\n",
    "            Yg.append(j)\n",
    "            iter += 1\n",
    "        return Yg"
   ]
  },
  {
   "cell_type": "code",
   "execution_count": null,
   "id": "024b7a96",
   "metadata": {},
   "outputs": [],
   "source": []
  }
 ],
 "metadata": {
  "kernelspec": {
   "display_name": "Python 3",
   "language": "python",
   "name": "python3"
  },
  "language_info": {
   "codemirror_mode": {
    "name": "ipython",
    "version": 3
   },
   "file_extension": ".py",
   "mimetype": "text/x-python",
   "name": "python",
   "nbconvert_exporter": "python",
   "pygments_lexer": "ipython3",
   "version": "3.8.8"
  }
 },
 "nbformat": 4,
 "nbformat_minor": 5
}
